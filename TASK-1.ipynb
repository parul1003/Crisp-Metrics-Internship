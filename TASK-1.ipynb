{
 "cells": [
  {
   "cell_type": "markdown",
   "metadata": {},
   "source": [
    "# CRISP Metrics DATA SCIENCE INTERNSHIP:"
   ]
  },
  {
   "cell_type": "markdown",
   "metadata": {},
   "source": [
    "# Task 1 : Prediction and comparing accuracies of different models using Supervised ML\n",
    "\n",
    "Using the 'diseases' dataset to perform visualization task and make use different algorithm to predict label."
   ]
  },
  {
   "cell_type": "markdown",
   "metadata": {},
   "source": [
    "# NAME:Parul Singh R"
   ]
  },
  {
   "cell_type": "markdown",
   "metadata": {},
   "source": [
    "# Importing Modules used in this notebook:"
   ]
  },
  {
   "cell_type": "code",
   "execution_count": 1,
   "metadata": {},
   "outputs": [],
   "source": [
    "# Importing Libraries\n",
    "import pandas as pd\n",
    "import numpy as np\n",
    "import seaborn as sns\n",
    "%matplotlib inline\n",
    "import matplotlib.pyplot as plt"
   ]
  },
  {
   "cell_type": "markdown",
   "metadata": {},
   "source": [
    "# Reading Dataset:"
   ]
  },
  {
   "cell_type": "code",
   "execution_count": 2,
   "metadata": {},
   "outputs": [
    {
     "data": {
      "text/html": [
       "<div>\n",
       "<style scoped>\n",
       "    .dataframe tbody tr th:only-of-type {\n",
       "        vertical-align: middle;\n",
       "    }\n",
       "\n",
       "    .dataframe tbody tr th {\n",
       "        vertical-align: top;\n",
       "    }\n",
       "\n",
       "    .dataframe thead th {\n",
       "        text-align: right;\n",
       "    }\n",
       "</style>\n",
       "<table border=\"1\" class=\"dataframe\">\n",
       "  <thead>\n",
       "    <tr style=\"text-align: right;\">\n",
       "      <th></th>\n",
       "      <th>itching</th>\n",
       "      <th>skin_rash</th>\n",
       "      <th>nodal_skin_eruptions</th>\n",
       "      <th>continuous_sneezing</th>\n",
       "      <th>shivering</th>\n",
       "      <th>chills</th>\n",
       "      <th>joint_pain</th>\n",
       "      <th>stomach_pain</th>\n",
       "      <th>acidity</th>\n",
       "      <th>ulcers_on_tongue</th>\n",
       "      <th>...</th>\n",
       "      <th>scurring</th>\n",
       "      <th>skin_peeling</th>\n",
       "      <th>silver_like_dusting</th>\n",
       "      <th>small_dents_in_nails</th>\n",
       "      <th>inflammatory_nails</th>\n",
       "      <th>blister</th>\n",
       "      <th>red_sore_around_nose</th>\n",
       "      <th>yellow_crust_ooze</th>\n",
       "      <th>prognosis</th>\n",
       "      <th>Unnamed: 133</th>\n",
       "    </tr>\n",
       "  </thead>\n",
       "  <tbody>\n",
       "    <tr>\n",
       "      <th>0</th>\n",
       "      <td>1</td>\n",
       "      <td>1</td>\n",
       "      <td>1</td>\n",
       "      <td>0</td>\n",
       "      <td>0</td>\n",
       "      <td>0</td>\n",
       "      <td>0</td>\n",
       "      <td>0</td>\n",
       "      <td>0</td>\n",
       "      <td>0</td>\n",
       "      <td>...</td>\n",
       "      <td>0</td>\n",
       "      <td>0</td>\n",
       "      <td>0</td>\n",
       "      <td>0</td>\n",
       "      <td>0</td>\n",
       "      <td>0</td>\n",
       "      <td>0</td>\n",
       "      <td>0</td>\n",
       "      <td>Fungal infection</td>\n",
       "      <td>NaN</td>\n",
       "    </tr>\n",
       "    <tr>\n",
       "      <th>1</th>\n",
       "      <td>0</td>\n",
       "      <td>1</td>\n",
       "      <td>1</td>\n",
       "      <td>0</td>\n",
       "      <td>0</td>\n",
       "      <td>0</td>\n",
       "      <td>0</td>\n",
       "      <td>0</td>\n",
       "      <td>0</td>\n",
       "      <td>0</td>\n",
       "      <td>...</td>\n",
       "      <td>0</td>\n",
       "      <td>0</td>\n",
       "      <td>0</td>\n",
       "      <td>0</td>\n",
       "      <td>0</td>\n",
       "      <td>0</td>\n",
       "      <td>0</td>\n",
       "      <td>0</td>\n",
       "      <td>Fungal infection</td>\n",
       "      <td>NaN</td>\n",
       "    </tr>\n",
       "    <tr>\n",
       "      <th>2</th>\n",
       "      <td>1</td>\n",
       "      <td>0</td>\n",
       "      <td>1</td>\n",
       "      <td>0</td>\n",
       "      <td>0</td>\n",
       "      <td>0</td>\n",
       "      <td>0</td>\n",
       "      <td>0</td>\n",
       "      <td>0</td>\n",
       "      <td>0</td>\n",
       "      <td>...</td>\n",
       "      <td>0</td>\n",
       "      <td>0</td>\n",
       "      <td>0</td>\n",
       "      <td>0</td>\n",
       "      <td>0</td>\n",
       "      <td>0</td>\n",
       "      <td>0</td>\n",
       "      <td>0</td>\n",
       "      <td>Fungal infection</td>\n",
       "      <td>NaN</td>\n",
       "    </tr>\n",
       "    <tr>\n",
       "      <th>3</th>\n",
       "      <td>1</td>\n",
       "      <td>1</td>\n",
       "      <td>0</td>\n",
       "      <td>0</td>\n",
       "      <td>0</td>\n",
       "      <td>0</td>\n",
       "      <td>0</td>\n",
       "      <td>0</td>\n",
       "      <td>0</td>\n",
       "      <td>0</td>\n",
       "      <td>...</td>\n",
       "      <td>0</td>\n",
       "      <td>0</td>\n",
       "      <td>0</td>\n",
       "      <td>0</td>\n",
       "      <td>0</td>\n",
       "      <td>0</td>\n",
       "      <td>0</td>\n",
       "      <td>0</td>\n",
       "      <td>Fungal infection</td>\n",
       "      <td>NaN</td>\n",
       "    </tr>\n",
       "    <tr>\n",
       "      <th>4</th>\n",
       "      <td>1</td>\n",
       "      <td>1</td>\n",
       "      <td>1</td>\n",
       "      <td>0</td>\n",
       "      <td>0</td>\n",
       "      <td>0</td>\n",
       "      <td>0</td>\n",
       "      <td>0</td>\n",
       "      <td>0</td>\n",
       "      <td>0</td>\n",
       "      <td>...</td>\n",
       "      <td>0</td>\n",
       "      <td>0</td>\n",
       "      <td>0</td>\n",
       "      <td>0</td>\n",
       "      <td>0</td>\n",
       "      <td>0</td>\n",
       "      <td>0</td>\n",
       "      <td>0</td>\n",
       "      <td>Fungal infection</td>\n",
       "      <td>NaN</td>\n",
       "    </tr>\n",
       "  </tbody>\n",
       "</table>\n",
       "<p>5 rows × 134 columns</p>\n",
       "</div>"
      ],
      "text/plain": [
       "   itching  skin_rash  nodal_skin_eruptions  continuous_sneezing  shivering  \\\n",
       "0        1          1                     1                    0          0   \n",
       "1        0          1                     1                    0          0   \n",
       "2        1          0                     1                    0          0   \n",
       "3        1          1                     0                    0          0   \n",
       "4        1          1                     1                    0          0   \n",
       "\n",
       "   chills  joint_pain  stomach_pain  acidity  ulcers_on_tongue  ...  scurring  \\\n",
       "0       0           0             0        0                 0  ...         0   \n",
       "1       0           0             0        0                 0  ...         0   \n",
       "2       0           0             0        0                 0  ...         0   \n",
       "3       0           0             0        0                 0  ...         0   \n",
       "4       0           0             0        0                 0  ...         0   \n",
       "\n",
       "   skin_peeling  silver_like_dusting  small_dents_in_nails  \\\n",
       "0             0                    0                     0   \n",
       "1             0                    0                     0   \n",
       "2             0                    0                     0   \n",
       "3             0                    0                     0   \n",
       "4             0                    0                     0   \n",
       "\n",
       "   inflammatory_nails  blister  red_sore_around_nose  yellow_crust_ooze  \\\n",
       "0                   0        0                     0                  0   \n",
       "1                   0        0                     0                  0   \n",
       "2                   0        0                     0                  0   \n",
       "3                   0        0                     0                  0   \n",
       "4                   0        0                     0                  0   \n",
       "\n",
       "          prognosis  Unnamed: 133  \n",
       "0  Fungal infection           NaN  \n",
       "1  Fungal infection           NaN  \n",
       "2  Fungal infection           NaN  \n",
       "3  Fungal infection           NaN  \n",
       "4  Fungal infection           NaN  \n",
       "\n",
       "[5 rows x 134 columns]"
      ]
     },
     "execution_count": 2,
     "metadata": {},
     "output_type": "execute_result"
    }
   ],
   "source": [
    "# Reading the dataset\n",
    "df = pd.read_csv('Training.csv')\n",
    "df.head()"
   ]
  },
  {
   "cell_type": "code",
   "execution_count": 3,
   "metadata": {},
   "outputs": [
    {
     "data": {
      "text/plain": [
       "(4920, 134)"
      ]
     },
     "execution_count": 3,
     "metadata": {},
     "output_type": "execute_result"
    }
   ],
   "source": [
    "df.shape"
   ]
  },
  {
   "cell_type": "code",
   "execution_count": 4,
   "metadata": {},
   "outputs": [
    {
     "data": {
      "text/html": [
       "<div>\n",
       "<style scoped>\n",
       "    .dataframe tbody tr th:only-of-type {\n",
       "        vertical-align: middle;\n",
       "    }\n",
       "\n",
       "    .dataframe tbody tr th {\n",
       "        vertical-align: top;\n",
       "    }\n",
       "\n",
       "    .dataframe thead th {\n",
       "        text-align: right;\n",
       "    }\n",
       "</style>\n",
       "<table border=\"1\" class=\"dataframe\">\n",
       "  <thead>\n",
       "    <tr style=\"text-align: right;\">\n",
       "      <th></th>\n",
       "      <th>itching</th>\n",
       "      <th>skin_rash</th>\n",
       "      <th>nodal_skin_eruptions</th>\n",
       "      <th>continuous_sneezing</th>\n",
       "      <th>shivering</th>\n",
       "      <th>chills</th>\n",
       "      <th>joint_pain</th>\n",
       "      <th>stomach_pain</th>\n",
       "      <th>acidity</th>\n",
       "      <th>ulcers_on_tongue</th>\n",
       "      <th>...</th>\n",
       "      <th>blackheads</th>\n",
       "      <th>scurring</th>\n",
       "      <th>skin_peeling</th>\n",
       "      <th>silver_like_dusting</th>\n",
       "      <th>small_dents_in_nails</th>\n",
       "      <th>inflammatory_nails</th>\n",
       "      <th>blister</th>\n",
       "      <th>red_sore_around_nose</th>\n",
       "      <th>yellow_crust_ooze</th>\n",
       "      <th>Unnamed: 133</th>\n",
       "    </tr>\n",
       "  </thead>\n",
       "  <tbody>\n",
       "    <tr>\n",
       "      <th>count</th>\n",
       "      <td>4920.000000</td>\n",
       "      <td>4920.000000</td>\n",
       "      <td>4920.000000</td>\n",
       "      <td>4920.000000</td>\n",
       "      <td>4920.000000</td>\n",
       "      <td>4920.000000</td>\n",
       "      <td>4920.000000</td>\n",
       "      <td>4920.000000</td>\n",
       "      <td>4920.000000</td>\n",
       "      <td>4920.000000</td>\n",
       "      <td>...</td>\n",
       "      <td>4920.000000</td>\n",
       "      <td>4920.000000</td>\n",
       "      <td>4920.000000</td>\n",
       "      <td>4920.000000</td>\n",
       "      <td>4920.000000</td>\n",
       "      <td>4920.000000</td>\n",
       "      <td>4920.000000</td>\n",
       "      <td>4920.000000</td>\n",
       "      <td>4920.000000</td>\n",
       "      <td>0.0</td>\n",
       "    </tr>\n",
       "    <tr>\n",
       "      <th>mean</th>\n",
       "      <td>0.137805</td>\n",
       "      <td>0.159756</td>\n",
       "      <td>0.021951</td>\n",
       "      <td>0.045122</td>\n",
       "      <td>0.021951</td>\n",
       "      <td>0.162195</td>\n",
       "      <td>0.139024</td>\n",
       "      <td>0.045122</td>\n",
       "      <td>0.045122</td>\n",
       "      <td>0.021951</td>\n",
       "      <td>...</td>\n",
       "      <td>0.021951</td>\n",
       "      <td>0.021951</td>\n",
       "      <td>0.023171</td>\n",
       "      <td>0.023171</td>\n",
       "      <td>0.023171</td>\n",
       "      <td>0.023171</td>\n",
       "      <td>0.023171</td>\n",
       "      <td>0.023171</td>\n",
       "      <td>0.023171</td>\n",
       "      <td>NaN</td>\n",
       "    </tr>\n",
       "    <tr>\n",
       "      <th>std</th>\n",
       "      <td>0.344730</td>\n",
       "      <td>0.366417</td>\n",
       "      <td>0.146539</td>\n",
       "      <td>0.207593</td>\n",
       "      <td>0.146539</td>\n",
       "      <td>0.368667</td>\n",
       "      <td>0.346007</td>\n",
       "      <td>0.207593</td>\n",
       "      <td>0.207593</td>\n",
       "      <td>0.146539</td>\n",
       "      <td>...</td>\n",
       "      <td>0.146539</td>\n",
       "      <td>0.146539</td>\n",
       "      <td>0.150461</td>\n",
       "      <td>0.150461</td>\n",
       "      <td>0.150461</td>\n",
       "      <td>0.150461</td>\n",
       "      <td>0.150461</td>\n",
       "      <td>0.150461</td>\n",
       "      <td>0.150461</td>\n",
       "      <td>NaN</td>\n",
       "    </tr>\n",
       "    <tr>\n",
       "      <th>min</th>\n",
       "      <td>0.000000</td>\n",
       "      <td>0.000000</td>\n",
       "      <td>0.000000</td>\n",
       "      <td>0.000000</td>\n",
       "      <td>0.000000</td>\n",
       "      <td>0.000000</td>\n",
       "      <td>0.000000</td>\n",
       "      <td>0.000000</td>\n",
       "      <td>0.000000</td>\n",
       "      <td>0.000000</td>\n",
       "      <td>...</td>\n",
       "      <td>0.000000</td>\n",
       "      <td>0.000000</td>\n",
       "      <td>0.000000</td>\n",
       "      <td>0.000000</td>\n",
       "      <td>0.000000</td>\n",
       "      <td>0.000000</td>\n",
       "      <td>0.000000</td>\n",
       "      <td>0.000000</td>\n",
       "      <td>0.000000</td>\n",
       "      <td>NaN</td>\n",
       "    </tr>\n",
       "    <tr>\n",
       "      <th>25%</th>\n",
       "      <td>0.000000</td>\n",
       "      <td>0.000000</td>\n",
       "      <td>0.000000</td>\n",
       "      <td>0.000000</td>\n",
       "      <td>0.000000</td>\n",
       "      <td>0.000000</td>\n",
       "      <td>0.000000</td>\n",
       "      <td>0.000000</td>\n",
       "      <td>0.000000</td>\n",
       "      <td>0.000000</td>\n",
       "      <td>...</td>\n",
       "      <td>0.000000</td>\n",
       "      <td>0.000000</td>\n",
       "      <td>0.000000</td>\n",
       "      <td>0.000000</td>\n",
       "      <td>0.000000</td>\n",
       "      <td>0.000000</td>\n",
       "      <td>0.000000</td>\n",
       "      <td>0.000000</td>\n",
       "      <td>0.000000</td>\n",
       "      <td>NaN</td>\n",
       "    </tr>\n",
       "    <tr>\n",
       "      <th>50%</th>\n",
       "      <td>0.000000</td>\n",
       "      <td>0.000000</td>\n",
       "      <td>0.000000</td>\n",
       "      <td>0.000000</td>\n",
       "      <td>0.000000</td>\n",
       "      <td>0.000000</td>\n",
       "      <td>0.000000</td>\n",
       "      <td>0.000000</td>\n",
       "      <td>0.000000</td>\n",
       "      <td>0.000000</td>\n",
       "      <td>...</td>\n",
       "      <td>0.000000</td>\n",
       "      <td>0.000000</td>\n",
       "      <td>0.000000</td>\n",
       "      <td>0.000000</td>\n",
       "      <td>0.000000</td>\n",
       "      <td>0.000000</td>\n",
       "      <td>0.000000</td>\n",
       "      <td>0.000000</td>\n",
       "      <td>0.000000</td>\n",
       "      <td>NaN</td>\n",
       "    </tr>\n",
       "    <tr>\n",
       "      <th>75%</th>\n",
       "      <td>0.000000</td>\n",
       "      <td>0.000000</td>\n",
       "      <td>0.000000</td>\n",
       "      <td>0.000000</td>\n",
       "      <td>0.000000</td>\n",
       "      <td>0.000000</td>\n",
       "      <td>0.000000</td>\n",
       "      <td>0.000000</td>\n",
       "      <td>0.000000</td>\n",
       "      <td>0.000000</td>\n",
       "      <td>...</td>\n",
       "      <td>0.000000</td>\n",
       "      <td>0.000000</td>\n",
       "      <td>0.000000</td>\n",
       "      <td>0.000000</td>\n",
       "      <td>0.000000</td>\n",
       "      <td>0.000000</td>\n",
       "      <td>0.000000</td>\n",
       "      <td>0.000000</td>\n",
       "      <td>0.000000</td>\n",
       "      <td>NaN</td>\n",
       "    </tr>\n",
       "    <tr>\n",
       "      <th>max</th>\n",
       "      <td>1.000000</td>\n",
       "      <td>1.000000</td>\n",
       "      <td>1.000000</td>\n",
       "      <td>1.000000</td>\n",
       "      <td>1.000000</td>\n",
       "      <td>1.000000</td>\n",
       "      <td>1.000000</td>\n",
       "      <td>1.000000</td>\n",
       "      <td>1.000000</td>\n",
       "      <td>1.000000</td>\n",
       "      <td>...</td>\n",
       "      <td>1.000000</td>\n",
       "      <td>1.000000</td>\n",
       "      <td>1.000000</td>\n",
       "      <td>1.000000</td>\n",
       "      <td>1.000000</td>\n",
       "      <td>1.000000</td>\n",
       "      <td>1.000000</td>\n",
       "      <td>1.000000</td>\n",
       "      <td>1.000000</td>\n",
       "      <td>NaN</td>\n",
       "    </tr>\n",
       "  </tbody>\n",
       "</table>\n",
       "<p>8 rows × 133 columns</p>\n",
       "</div>"
      ],
      "text/plain": [
       "           itching    skin_rash  nodal_skin_eruptions  continuous_sneezing  \\\n",
       "count  4920.000000  4920.000000           4920.000000          4920.000000   \n",
       "mean      0.137805     0.159756              0.021951             0.045122   \n",
       "std       0.344730     0.366417              0.146539             0.207593   \n",
       "min       0.000000     0.000000              0.000000             0.000000   \n",
       "25%       0.000000     0.000000              0.000000             0.000000   \n",
       "50%       0.000000     0.000000              0.000000             0.000000   \n",
       "75%       0.000000     0.000000              0.000000             0.000000   \n",
       "max       1.000000     1.000000              1.000000             1.000000   \n",
       "\n",
       "         shivering       chills   joint_pain  stomach_pain      acidity  \\\n",
       "count  4920.000000  4920.000000  4920.000000   4920.000000  4920.000000   \n",
       "mean      0.021951     0.162195     0.139024      0.045122     0.045122   \n",
       "std       0.146539     0.368667     0.346007      0.207593     0.207593   \n",
       "min       0.000000     0.000000     0.000000      0.000000     0.000000   \n",
       "25%       0.000000     0.000000     0.000000      0.000000     0.000000   \n",
       "50%       0.000000     0.000000     0.000000      0.000000     0.000000   \n",
       "75%       0.000000     0.000000     0.000000      0.000000     0.000000   \n",
       "max       1.000000     1.000000     1.000000      1.000000     1.000000   \n",
       "\n",
       "       ulcers_on_tongue  ...   blackheads     scurring  skin_peeling  \\\n",
       "count       4920.000000  ...  4920.000000  4920.000000   4920.000000   \n",
       "mean           0.021951  ...     0.021951     0.021951      0.023171   \n",
       "std            0.146539  ...     0.146539     0.146539      0.150461   \n",
       "min            0.000000  ...     0.000000     0.000000      0.000000   \n",
       "25%            0.000000  ...     0.000000     0.000000      0.000000   \n",
       "50%            0.000000  ...     0.000000     0.000000      0.000000   \n",
       "75%            0.000000  ...     0.000000     0.000000      0.000000   \n",
       "max            1.000000  ...     1.000000     1.000000      1.000000   \n",
       "\n",
       "       silver_like_dusting  small_dents_in_nails  inflammatory_nails  \\\n",
       "count          4920.000000           4920.000000         4920.000000   \n",
       "mean              0.023171              0.023171            0.023171   \n",
       "std               0.150461              0.150461            0.150461   \n",
       "min               0.000000              0.000000            0.000000   \n",
       "25%               0.000000              0.000000            0.000000   \n",
       "50%               0.000000              0.000000            0.000000   \n",
       "75%               0.000000              0.000000            0.000000   \n",
       "max               1.000000              1.000000            1.000000   \n",
       "\n",
       "           blister  red_sore_around_nose  yellow_crust_ooze  Unnamed: 133  \n",
       "count  4920.000000           4920.000000        4920.000000           0.0  \n",
       "mean      0.023171              0.023171           0.023171           NaN  \n",
       "std       0.150461              0.150461           0.150461           NaN  \n",
       "min       0.000000              0.000000           0.000000           NaN  \n",
       "25%       0.000000              0.000000           0.000000           NaN  \n",
       "50%       0.000000              0.000000           0.000000           NaN  \n",
       "75%       0.000000              0.000000           0.000000           NaN  \n",
       "max       1.000000              1.000000           1.000000           NaN  \n",
       "\n",
       "[8 rows x 133 columns]"
      ]
     },
     "execution_count": 4,
     "metadata": {},
     "output_type": "execute_result"
    }
   ],
   "source": [
    "# Getting a basic statistics of the dataset\n",
    "df.describe()"
   ]
  },
  {
   "cell_type": "markdown",
   "metadata": {},
   "source": [
    "# Preprocessing of dataset"
   ]
  },
  {
   "cell_type": "code",
   "execution_count": 5,
   "metadata": {},
   "outputs": [
    {
     "name": "stdout",
     "output_type": "stream",
     "text": [
      "<class 'pandas.core.frame.DataFrame'>\n",
      "RangeIndex: 4920 entries, 0 to 4919\n",
      "Columns: 134 entries, itching to Unnamed: 133\n",
      "dtypes: float64(1), int64(132), object(1)\n",
      "memory usage: 5.0+ MB\n"
     ]
    }
   ],
   "source": [
    "df.info()"
   ]
  },
  {
   "cell_type": "code",
   "execution_count": 6,
   "metadata": {},
   "outputs": [
    {
     "data": {
      "text/plain": [
       "True"
      ]
     },
     "execution_count": 6,
     "metadata": {},
     "output_type": "execute_result"
    }
   ],
   "source": [
    "# Checking for null values\n",
    "df.isnull().values.any()"
   ]
  },
  {
   "cell_type": "code",
   "execution_count": 7,
   "metadata": {},
   "outputs": [],
   "source": [
    "unwanted_val = df.drop('Unnamed: 133', axis = 1, inplace = True)"
   ]
  },
  {
   "cell_type": "code",
   "execution_count": 8,
   "metadata": {},
   "outputs": [],
   "source": [
    "uwt = df.drop('prognosis', axis=1,inplace = True)"
   ]
  },
  {
   "cell_type": "code",
   "execution_count": 10,
   "metadata": {},
   "outputs": [
    {
     "data": {
      "text/plain": [
       "False"
      ]
     },
     "execution_count": 10,
     "metadata": {},
     "output_type": "execute_result"
    }
   ],
   "source": [
    "# Checking again for null values\n",
    "df.isnull().values.any()"
   ]
  },
  {
   "cell_type": "code",
   "execution_count": 11,
   "metadata": {},
   "outputs": [
    {
     "data": {
      "text/plain": [
       "(4920, 132)"
      ]
     },
     "execution_count": 11,
     "metadata": {},
     "output_type": "execute_result"
    }
   ],
   "source": [
    "df.shape"
   ]
  },
  {
   "cell_type": "code",
   "execution_count": 12,
   "metadata": {},
   "outputs": [
    {
     "data": {
      "text/html": [
       "<div>\n",
       "<style scoped>\n",
       "    .dataframe tbody tr th:only-of-type {\n",
       "        vertical-align: middle;\n",
       "    }\n",
       "\n",
       "    .dataframe tbody tr th {\n",
       "        vertical-align: top;\n",
       "    }\n",
       "\n",
       "    .dataframe thead th {\n",
       "        text-align: right;\n",
       "    }\n",
       "</style>\n",
       "<table border=\"1\" class=\"dataframe\">\n",
       "  <thead>\n",
       "    <tr style=\"text-align: right;\">\n",
       "      <th></th>\n",
       "      <th>itching</th>\n",
       "      <th>skin_rash</th>\n",
       "      <th>nodal_skin_eruptions</th>\n",
       "      <th>continuous_sneezing</th>\n",
       "      <th>shivering</th>\n",
       "      <th>chills</th>\n",
       "      <th>joint_pain</th>\n",
       "      <th>stomach_pain</th>\n",
       "      <th>acidity</th>\n",
       "      <th>ulcers_on_tongue</th>\n",
       "      <th>...</th>\n",
       "      <th>pus_filled_pimples</th>\n",
       "      <th>blackheads</th>\n",
       "      <th>scurring</th>\n",
       "      <th>skin_peeling</th>\n",
       "      <th>silver_like_dusting</th>\n",
       "      <th>small_dents_in_nails</th>\n",
       "      <th>inflammatory_nails</th>\n",
       "      <th>blister</th>\n",
       "      <th>red_sore_around_nose</th>\n",
       "      <th>yellow_crust_ooze</th>\n",
       "    </tr>\n",
       "  </thead>\n",
       "  <tbody>\n",
       "    <tr>\n",
       "      <th>itching</th>\n",
       "      <td>1.000000</td>\n",
       "      <td>0.318158</td>\n",
       "      <td>0.326439</td>\n",
       "      <td>-0.086906</td>\n",
       "      <td>-0.059893</td>\n",
       "      <td>-0.175905</td>\n",
       "      <td>-0.160650</td>\n",
       "      <td>0.202850</td>\n",
       "      <td>-0.086906</td>\n",
       "      <td>-0.059893</td>\n",
       "      <td>...</td>\n",
       "      <td>-0.059893</td>\n",
       "      <td>-0.059893</td>\n",
       "      <td>-0.059893</td>\n",
       "      <td>-0.061573</td>\n",
       "      <td>-0.061573</td>\n",
       "      <td>-0.061573</td>\n",
       "      <td>-0.061573</td>\n",
       "      <td>-0.061573</td>\n",
       "      <td>-0.061573</td>\n",
       "      <td>-0.061573</td>\n",
       "    </tr>\n",
       "    <tr>\n",
       "      <th>skin_rash</th>\n",
       "      <td>0.318158</td>\n",
       "      <td>1.000000</td>\n",
       "      <td>0.298143</td>\n",
       "      <td>-0.094786</td>\n",
       "      <td>-0.065324</td>\n",
       "      <td>-0.029324</td>\n",
       "      <td>0.171134</td>\n",
       "      <td>0.161784</td>\n",
       "      <td>-0.094786</td>\n",
       "      <td>-0.065324</td>\n",
       "      <td>...</td>\n",
       "      <td>0.320859</td>\n",
       "      <td>0.320859</td>\n",
       "      <td>0.320859</td>\n",
       "      <td>0.331087</td>\n",
       "      <td>0.331087</td>\n",
       "      <td>0.331087</td>\n",
       "      <td>0.331087</td>\n",
       "      <td>0.331087</td>\n",
       "      <td>0.331087</td>\n",
       "      <td>0.331087</td>\n",
       "    </tr>\n",
       "    <tr>\n",
       "      <th>nodal_skin_eruptions</th>\n",
       "      <td>0.326439</td>\n",
       "      <td>0.298143</td>\n",
       "      <td>1.000000</td>\n",
       "      <td>-0.032566</td>\n",
       "      <td>-0.022444</td>\n",
       "      <td>-0.065917</td>\n",
       "      <td>-0.060200</td>\n",
       "      <td>-0.032566</td>\n",
       "      <td>-0.032566</td>\n",
       "      <td>-0.022444</td>\n",
       "      <td>...</td>\n",
       "      <td>-0.022444</td>\n",
       "      <td>-0.022444</td>\n",
       "      <td>-0.022444</td>\n",
       "      <td>-0.023073</td>\n",
       "      <td>-0.023073</td>\n",
       "      <td>-0.023073</td>\n",
       "      <td>-0.023073</td>\n",
       "      <td>-0.023073</td>\n",
       "      <td>-0.023073</td>\n",
       "      <td>-0.023073</td>\n",
       "    </tr>\n",
       "    <tr>\n",
       "      <th>continuous_sneezing</th>\n",
       "      <td>-0.086906</td>\n",
       "      <td>-0.094786</td>\n",
       "      <td>-0.032566</td>\n",
       "      <td>1.000000</td>\n",
       "      <td>0.608981</td>\n",
       "      <td>0.446238</td>\n",
       "      <td>-0.087351</td>\n",
       "      <td>-0.047254</td>\n",
       "      <td>-0.047254</td>\n",
       "      <td>-0.032566</td>\n",
       "      <td>...</td>\n",
       "      <td>-0.032566</td>\n",
       "      <td>-0.032566</td>\n",
       "      <td>-0.032566</td>\n",
       "      <td>-0.033480</td>\n",
       "      <td>-0.033480</td>\n",
       "      <td>-0.033480</td>\n",
       "      <td>-0.033480</td>\n",
       "      <td>-0.033480</td>\n",
       "      <td>-0.033480</td>\n",
       "      <td>-0.033480</td>\n",
       "    </tr>\n",
       "    <tr>\n",
       "      <th>shivering</th>\n",
       "      <td>-0.059893</td>\n",
       "      <td>-0.065324</td>\n",
       "      <td>-0.022444</td>\n",
       "      <td>0.608981</td>\n",
       "      <td>1.000000</td>\n",
       "      <td>0.295332</td>\n",
       "      <td>-0.060200</td>\n",
       "      <td>-0.032566</td>\n",
       "      <td>-0.032566</td>\n",
       "      <td>-0.022444</td>\n",
       "      <td>...</td>\n",
       "      <td>-0.022444</td>\n",
       "      <td>-0.022444</td>\n",
       "      <td>-0.022444</td>\n",
       "      <td>-0.023073</td>\n",
       "      <td>-0.023073</td>\n",
       "      <td>-0.023073</td>\n",
       "      <td>-0.023073</td>\n",
       "      <td>-0.023073</td>\n",
       "      <td>-0.023073</td>\n",
       "      <td>-0.023073</td>\n",
       "    </tr>\n",
       "    <tr>\n",
       "      <th>...</th>\n",
       "      <td>...</td>\n",
       "      <td>...</td>\n",
       "      <td>...</td>\n",
       "      <td>...</td>\n",
       "      <td>...</td>\n",
       "      <td>...</td>\n",
       "      <td>...</td>\n",
       "      <td>...</td>\n",
       "      <td>...</td>\n",
       "      <td>...</td>\n",
       "      <td>...</td>\n",
       "      <td>...</td>\n",
       "      <td>...</td>\n",
       "      <td>...</td>\n",
       "      <td>...</td>\n",
       "      <td>...</td>\n",
       "      <td>...</td>\n",
       "      <td>...</td>\n",
       "      <td>...</td>\n",
       "      <td>...</td>\n",
       "      <td>...</td>\n",
       "    </tr>\n",
       "    <tr>\n",
       "      <th>small_dents_in_nails</th>\n",
       "      <td>-0.061573</td>\n",
       "      <td>0.331087</td>\n",
       "      <td>-0.023073</td>\n",
       "      <td>-0.033480</td>\n",
       "      <td>-0.023073</td>\n",
       "      <td>-0.067765</td>\n",
       "      <td>0.359845</td>\n",
       "      <td>-0.033480</td>\n",
       "      <td>-0.033480</td>\n",
       "      <td>-0.023073</td>\n",
       "      <td>...</td>\n",
       "      <td>-0.023073</td>\n",
       "      <td>-0.023073</td>\n",
       "      <td>-0.023073</td>\n",
       "      <td>0.946120</td>\n",
       "      <td>0.946120</td>\n",
       "      <td>1.000000</td>\n",
       "      <td>0.946120</td>\n",
       "      <td>-0.023720</td>\n",
       "      <td>-0.023720</td>\n",
       "      <td>-0.023720</td>\n",
       "    </tr>\n",
       "    <tr>\n",
       "      <th>inflammatory_nails</th>\n",
       "      <td>-0.061573</td>\n",
       "      <td>0.331087</td>\n",
       "      <td>-0.023073</td>\n",
       "      <td>-0.033480</td>\n",
       "      <td>-0.023073</td>\n",
       "      <td>-0.067765</td>\n",
       "      <td>0.359845</td>\n",
       "      <td>-0.033480</td>\n",
       "      <td>-0.033480</td>\n",
       "      <td>-0.023073</td>\n",
       "      <td>...</td>\n",
       "      <td>-0.023073</td>\n",
       "      <td>-0.023073</td>\n",
       "      <td>-0.023073</td>\n",
       "      <td>0.946120</td>\n",
       "      <td>0.946120</td>\n",
       "      <td>0.946120</td>\n",
       "      <td>1.000000</td>\n",
       "      <td>-0.023720</td>\n",
       "      <td>-0.023720</td>\n",
       "      <td>-0.023720</td>\n",
       "    </tr>\n",
       "    <tr>\n",
       "      <th>blister</th>\n",
       "      <td>-0.061573</td>\n",
       "      <td>0.331087</td>\n",
       "      <td>-0.023073</td>\n",
       "      <td>-0.033480</td>\n",
       "      <td>-0.023073</td>\n",
       "      <td>-0.067765</td>\n",
       "      <td>-0.061889</td>\n",
       "      <td>-0.033480</td>\n",
       "      <td>-0.033480</td>\n",
       "      <td>-0.023073</td>\n",
       "      <td>...</td>\n",
       "      <td>-0.023073</td>\n",
       "      <td>-0.023073</td>\n",
       "      <td>-0.023073</td>\n",
       "      <td>-0.023720</td>\n",
       "      <td>-0.023720</td>\n",
       "      <td>-0.023720</td>\n",
       "      <td>-0.023720</td>\n",
       "      <td>1.000000</td>\n",
       "      <td>0.946120</td>\n",
       "      <td>0.946120</td>\n",
       "    </tr>\n",
       "    <tr>\n",
       "      <th>red_sore_around_nose</th>\n",
       "      <td>-0.061573</td>\n",
       "      <td>0.331087</td>\n",
       "      <td>-0.023073</td>\n",
       "      <td>-0.033480</td>\n",
       "      <td>-0.023073</td>\n",
       "      <td>-0.067765</td>\n",
       "      <td>-0.061889</td>\n",
       "      <td>-0.033480</td>\n",
       "      <td>-0.033480</td>\n",
       "      <td>-0.023073</td>\n",
       "      <td>...</td>\n",
       "      <td>-0.023073</td>\n",
       "      <td>-0.023073</td>\n",
       "      <td>-0.023073</td>\n",
       "      <td>-0.023720</td>\n",
       "      <td>-0.023720</td>\n",
       "      <td>-0.023720</td>\n",
       "      <td>-0.023720</td>\n",
       "      <td>0.946120</td>\n",
       "      <td>1.000000</td>\n",
       "      <td>0.946120</td>\n",
       "    </tr>\n",
       "    <tr>\n",
       "      <th>yellow_crust_ooze</th>\n",
       "      <td>-0.061573</td>\n",
       "      <td>0.331087</td>\n",
       "      <td>-0.023073</td>\n",
       "      <td>-0.033480</td>\n",
       "      <td>-0.023073</td>\n",
       "      <td>-0.067765</td>\n",
       "      <td>-0.061889</td>\n",
       "      <td>-0.033480</td>\n",
       "      <td>-0.033480</td>\n",
       "      <td>-0.023073</td>\n",
       "      <td>...</td>\n",
       "      <td>-0.023073</td>\n",
       "      <td>-0.023073</td>\n",
       "      <td>-0.023073</td>\n",
       "      <td>-0.023720</td>\n",
       "      <td>-0.023720</td>\n",
       "      <td>-0.023720</td>\n",
       "      <td>-0.023720</td>\n",
       "      <td>0.946120</td>\n",
       "      <td>0.946120</td>\n",
       "      <td>1.000000</td>\n",
       "    </tr>\n",
       "  </tbody>\n",
       "</table>\n",
       "<p>132 rows × 132 columns</p>\n",
       "</div>"
      ],
      "text/plain": [
       "                       itching  skin_rash  nodal_skin_eruptions  \\\n",
       "itching               1.000000   0.318158              0.326439   \n",
       "skin_rash             0.318158   1.000000              0.298143   \n",
       "nodal_skin_eruptions  0.326439   0.298143              1.000000   \n",
       "continuous_sneezing  -0.086906  -0.094786             -0.032566   \n",
       "shivering            -0.059893  -0.065324             -0.022444   \n",
       "...                        ...        ...                   ...   \n",
       "small_dents_in_nails -0.061573   0.331087             -0.023073   \n",
       "inflammatory_nails   -0.061573   0.331087             -0.023073   \n",
       "blister              -0.061573   0.331087             -0.023073   \n",
       "red_sore_around_nose -0.061573   0.331087             -0.023073   \n",
       "yellow_crust_ooze    -0.061573   0.331087             -0.023073   \n",
       "\n",
       "                      continuous_sneezing  shivering    chills  joint_pain  \\\n",
       "itching                         -0.086906  -0.059893 -0.175905   -0.160650   \n",
       "skin_rash                       -0.094786  -0.065324 -0.029324    0.171134   \n",
       "nodal_skin_eruptions            -0.032566  -0.022444 -0.065917   -0.060200   \n",
       "continuous_sneezing              1.000000   0.608981  0.446238   -0.087351   \n",
       "shivering                        0.608981   1.000000  0.295332   -0.060200   \n",
       "...                                   ...        ...       ...         ...   \n",
       "small_dents_in_nails            -0.033480  -0.023073 -0.067765    0.359845   \n",
       "inflammatory_nails              -0.033480  -0.023073 -0.067765    0.359845   \n",
       "blister                         -0.033480  -0.023073 -0.067765   -0.061889   \n",
       "red_sore_around_nose            -0.033480  -0.023073 -0.067765   -0.061889   \n",
       "yellow_crust_ooze               -0.033480  -0.023073 -0.067765   -0.061889   \n",
       "\n",
       "                      stomach_pain   acidity  ulcers_on_tongue  ...  \\\n",
       "itching                   0.202850 -0.086906         -0.059893  ...   \n",
       "skin_rash                 0.161784 -0.094786         -0.065324  ...   \n",
       "nodal_skin_eruptions     -0.032566 -0.032566         -0.022444  ...   \n",
       "continuous_sneezing      -0.047254 -0.047254         -0.032566  ...   \n",
       "shivering                -0.032566 -0.032566         -0.022444  ...   \n",
       "...                            ...       ...               ...  ...   \n",
       "small_dents_in_nails     -0.033480 -0.033480         -0.023073  ...   \n",
       "inflammatory_nails       -0.033480 -0.033480         -0.023073  ...   \n",
       "blister                  -0.033480 -0.033480         -0.023073  ...   \n",
       "red_sore_around_nose     -0.033480 -0.033480         -0.023073  ...   \n",
       "yellow_crust_ooze        -0.033480 -0.033480         -0.023073  ...   \n",
       "\n",
       "                      pus_filled_pimples  blackheads  scurring  skin_peeling  \\\n",
       "itching                        -0.059893   -0.059893 -0.059893     -0.061573   \n",
       "skin_rash                       0.320859    0.320859  0.320859      0.331087   \n",
       "nodal_skin_eruptions           -0.022444   -0.022444 -0.022444     -0.023073   \n",
       "continuous_sneezing            -0.032566   -0.032566 -0.032566     -0.033480   \n",
       "shivering                      -0.022444   -0.022444 -0.022444     -0.023073   \n",
       "...                                  ...         ...       ...           ...   \n",
       "small_dents_in_nails           -0.023073   -0.023073 -0.023073      0.946120   \n",
       "inflammatory_nails             -0.023073   -0.023073 -0.023073      0.946120   \n",
       "blister                        -0.023073   -0.023073 -0.023073     -0.023720   \n",
       "red_sore_around_nose           -0.023073   -0.023073 -0.023073     -0.023720   \n",
       "yellow_crust_ooze              -0.023073   -0.023073 -0.023073     -0.023720   \n",
       "\n",
       "                      silver_like_dusting  small_dents_in_nails  \\\n",
       "itching                         -0.061573             -0.061573   \n",
       "skin_rash                        0.331087              0.331087   \n",
       "nodal_skin_eruptions            -0.023073             -0.023073   \n",
       "continuous_sneezing             -0.033480             -0.033480   \n",
       "shivering                       -0.023073             -0.023073   \n",
       "...                                   ...                   ...   \n",
       "small_dents_in_nails             0.946120              1.000000   \n",
       "inflammatory_nails               0.946120              0.946120   \n",
       "blister                         -0.023720             -0.023720   \n",
       "red_sore_around_nose            -0.023720             -0.023720   \n",
       "yellow_crust_ooze               -0.023720             -0.023720   \n",
       "\n",
       "                      inflammatory_nails   blister  red_sore_around_nose  \\\n",
       "itching                        -0.061573 -0.061573             -0.061573   \n",
       "skin_rash                       0.331087  0.331087              0.331087   \n",
       "nodal_skin_eruptions           -0.023073 -0.023073             -0.023073   \n",
       "continuous_sneezing            -0.033480 -0.033480             -0.033480   \n",
       "shivering                      -0.023073 -0.023073             -0.023073   \n",
       "...                                  ...       ...                   ...   \n",
       "small_dents_in_nails            0.946120 -0.023720             -0.023720   \n",
       "inflammatory_nails              1.000000 -0.023720             -0.023720   \n",
       "blister                        -0.023720  1.000000              0.946120   \n",
       "red_sore_around_nose           -0.023720  0.946120              1.000000   \n",
       "yellow_crust_ooze              -0.023720  0.946120              0.946120   \n",
       "\n",
       "                      yellow_crust_ooze  \n",
       "itching                       -0.061573  \n",
       "skin_rash                      0.331087  \n",
       "nodal_skin_eruptions          -0.023073  \n",
       "continuous_sneezing           -0.033480  \n",
       "shivering                     -0.023073  \n",
       "...                                 ...  \n",
       "small_dents_in_nails          -0.023720  \n",
       "inflammatory_nails            -0.023720  \n",
       "blister                        0.946120  \n",
       "red_sore_around_nose           0.946120  \n",
       "yellow_crust_ooze              1.000000  \n",
       "\n",
       "[132 rows x 132 columns]"
      ]
     },
     "execution_count": 12,
     "metadata": {},
     "output_type": "execute_result"
    }
   ],
   "source": [
    "# Finding the correlations\n",
    "df.corr()"
   ]
  },
  {
   "cell_type": "code",
   "execution_count": 13,
   "metadata": {},
   "outputs": [],
   "source": [
    "# Split the data to feature and target values\n",
    "X = df.iloc[:, 1:].values\n",
    "Y = df.iloc[:, 0].values"
   ]
  },
  {
   "cell_type": "code",
   "execution_count": 15,
   "metadata": {},
   "outputs": [],
   "source": [
    "from sklearn.model_selection import train_test_split"
   ]
  },
  {
   "cell_type": "code",
   "execution_count": 16,
   "metadata": {},
   "outputs": [],
   "source": [
    "X_train, X_test, Y_train, Y_test = train_test_split(X,Y,test_size = 0.25, random_state = 0)"
   ]
  },
  {
   "cell_type": "code",
   "execution_count": 17,
   "metadata": {},
   "outputs": [
    {
     "data": {
      "text/plain": [
       "1230"
      ]
     },
     "execution_count": 17,
     "metadata": {},
     "output_type": "execute_result"
    }
   ],
   "source": [
    "len(X_test)"
   ]
  },
  {
   "cell_type": "code",
   "execution_count": 18,
   "metadata": {},
   "outputs": [
    {
     "data": {
      "text/plain": [
       "1230"
      ]
     },
     "execution_count": 18,
     "metadata": {},
     "output_type": "execute_result"
    }
   ],
   "source": [
    "len(Y_test)"
   ]
  },
  {
   "cell_type": "code",
   "execution_count": 19,
   "metadata": {},
   "outputs": [
    {
     "data": {
      "text/plain": [
       "3690"
      ]
     },
     "execution_count": 19,
     "metadata": {},
     "output_type": "execute_result"
    }
   ],
   "source": [
    "len(X_train)"
   ]
  },
  {
   "cell_type": "code",
   "execution_count": 20,
   "metadata": {},
   "outputs": [
    {
     "data": {
      "text/plain": [
       "3690"
      ]
     },
     "execution_count": 20,
     "metadata": {},
     "output_type": "execute_result"
    }
   ],
   "source": [
    "len(Y_train)"
   ]
  },
  {
   "cell_type": "code",
   "execution_count": 21,
   "metadata": {},
   "outputs": [],
   "source": [
    "#creating list for acuracy values and model names:\n",
    "acc = []\n",
    "model = []"
   ]
  },
  {
   "cell_type": "markdown",
   "metadata": {},
   "source": [
    "# Linear Regression Model:"
   ]
  },
  {
   "cell_type": "code",
   "execution_count": 22,
   "metadata": {},
   "outputs": [
    {
     "name": "stdout",
     "output_type": "stream",
     "text": [
      "Test accuracy : 83.601453%\n"
     ]
    }
   ],
   "source": [
    "from sklearn.linear_model import LinearRegression\n",
    "LIR = LinearRegression()\n",
    "LIR.fit(X_train, Y_train)\n",
    "wild = LIR.predict(X_test)\n",
    "a = LIR.score(X_test,Y_test)\n",
    "acc.append(a)\n",
    "model.append('LIR')\n",
    "print(\"Test accuracy : {:2f}%\".format(LIR.score(X_test, Y_test) * 100 ))"
   ]
  },
  {
   "cell_type": "markdown",
   "metadata": {},
   "source": [
    "# Logistic Regression Model:"
   ]
  },
  {
   "cell_type": "code",
   "execution_count": 29,
   "metadata": {},
   "outputs": [
    {
     "name": "stdout",
     "output_type": "stream",
     "text": [
      "Test accuracy : 98.861789%\n"
     ]
    }
   ],
   "source": [
    "# Logistic Regression\n",
    "from sklearn.linear_model import LogisticRegression\n",
    "LR = LogisticRegression()\n",
    "LR.fit(X_train, Y_train)\n",
    "predictions = LR.predict(X_test)\n",
    "l = LR.score(X_test,Y_test)\n",
    "acc.append(l)\n",
    "model.append('LR')\n",
    "print(\"Test accuracy : {:2f}%\".format(LR.score(X_test, Y_test) * 100 ))"
   ]
  },
  {
   "cell_type": "markdown",
   "metadata": {},
   "source": [
    "# Support Vector Machine:"
   ]
  },
  {
   "cell_type": "code",
   "execution_count": 30,
   "metadata": {},
   "outputs": [
    {
     "name": "stdout",
     "output_type": "stream",
     "text": [
      "Test accuracy : 97.235772%\n"
     ]
    }
   ],
   "source": [
    "from sklearn.svm import SVC\n",
    "import sklearn.metrics as metrics\n",
    "SVM = SVC(gamma='auto')\n",
    "SVM.fit(X_train,Y_train)\n",
    "predicted_values = SVM.predict(X_test)\n",
    "s = metrics.accuracy_score(Y_test,predicted_values)\n",
    "acc.append(s)\n",
    "model.append('SVM')\n",
    "print(\"Test accuracy : {:2f}%\".format(SVM.score(X_test, Y_test) * 100 ))"
   ]
  },
  {
   "cell_type": "markdown",
   "metadata": {},
   "source": [
    "# Decision Tree Model:"
   ]
  },
  {
   "cell_type": "code",
   "execution_count": 31,
   "metadata": {},
   "outputs": [
    {
     "name": "stdout",
     "output_type": "stream",
     "text": [
      "Test accuracy : 98.861789%\n"
     ]
    }
   ],
   "source": [
    "# Decision Tree\n",
    "from sklearn.tree import DecisionTreeClassifier\n",
    "DC = DecisionTreeClassifier()\n",
    "DC.fit(X_train,Y_train)\n",
    "tree = DC.predict(X_test)\n",
    "z = DC.score(X_test,Y_test)\n",
    "acc.append(z)\n",
    "model.append('DC')\n",
    "print(\"Test accuracy : {:2f}%\".format(DC.score(X_test, Y_test) * 100 ))"
   ]
  },
  {
   "cell_type": "markdown",
   "metadata": {},
   "source": [
    "# K Neighbors Classifier:"
   ]
  },
  {
   "cell_type": "code",
   "execution_count": 32,
   "metadata": {},
   "outputs": [
    {
     "name": "stdout",
     "output_type": "stream",
     "text": [
      "Test accuracy : 98.861789%\n"
     ]
    }
   ],
   "source": [
    "from sklearn.neighbors import KNeighborsClassifier\n",
    "KNN = KNeighborsClassifier(n_neighbors=3)\n",
    "\n",
    "KNN.fit(X_train,Y_train)\n",
    "\n",
    "#Predict Output\n",
    "predicted= KNN.predict(X_test) \n",
    "k = KNN.score(X_test,Y_test)\n",
    "acc.append(k)\n",
    "model.append('KNN')\n",
    "print(\"Test accuracy : {:2f}%\".format(KNN.score(X_test, Y_test) * 100 ))"
   ]
  },
  {
   "cell_type": "markdown",
   "metadata": {},
   "source": [
    "# Ploting acuracy of all models:"
   ]
  },
  {
   "cell_type": "code",
   "execution_count": 35,
   "metadata": {},
   "outputs": [
    {
     "data": {
      "text/plain": [
       "<matplotlib.axes._subplots.AxesSubplot at 0x1eb11acb848>"
      ]
     },
     "execution_count": 35,
     "metadata": {},
     "output_type": "execute_result"
    },
    {
     "data": {
      "image/png": "[encoded data removed]",
      "text/plain": [
       "<Figure size 1500x750 with 1 Axes>"
      ]
     },
     "metadata": {
      "needs_background": "light"
     },
     "output_type": "display_data"
    }
   ],
   "source": [
    "plt.figure(figsize = [10,5], dpi = 150)\n",
    "plt.title('Accuracy Comparison')\n",
    "plt.xlabel('Algorithm')\n",
    "plt.ylabel('Accuracy')\n",
    "sns.barplot(x = model,y = acc, palette='dark')"
   ]
  },
  {
   "cell_type": "markdown",
   "metadata": {},
   "source": [
    "# Conclusion:"
   ]
  },
  {
   "cell_type": "markdown",
   "metadata": {},
   "source": [
    "From the above Barplot it is clear that KNN and decision tree and Logistic regression gives good prediction values \n",
    "and linear regression model cannot been used for this kind of dataset problems."
   ]
  },
  {
   "cell_type": "markdown",
   "metadata": {},
   "source": [
    "# Thank you...."
   ]
  },
  {
   "cell_type": "code",
   "execution_count": null,
   "metadata": {},
   "outputs": [],
   "source": []
  }
 ],
 "metadata": {
  "kernelspec": {
   "display_name": "Python 3",
   "language": "python",
   "name": "python3"
  },
  "language_info": {
   "codemirror_mode": {
    "name": "ipython",
    "version": 3
   },
   "file_extension": ".py",
   "mimetype": "text/x-python",
   "name": "python",
   "nbconvert_exporter": "python",
   "pygments_lexer": "ipython3",
   "version": "3.7.6"
  }
 },
 "nbformat": 4,
 "nbformat_minor": 4
}
